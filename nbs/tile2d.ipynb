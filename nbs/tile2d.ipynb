{
 "cells": [
  {
   "cell_type": "markdown",
   "metadata": {},
   "source": [
    "# Tile a stack of array of images into a 2D grid"
   ]
  },
  {
   "cell_type": "code",
   "execution_count": null,
   "metadata": {},
   "outputs": [],
   "source": [
    "#| default_exp tile2d"
   ]
  },
  {
   "cell_type": "code",
   "execution_count": null,
   "metadata": {},
   "outputs": [],
   "source": [
    "# |hide\n",
    "from nbdev.showdoc import *\n",
    "from fastcore.test import test_eq, is_close\n",
    "from matplotlib import pyplot as plt\n",
    "from lovely_tensors import monkey_patch"
   ]
  },
  {
   "cell_type": "code",
   "execution_count": null,
   "metadata": {},
   "outputs": [],
   "source": [
    "# |hide\n",
    "monkey_patch()"
   ]
  },
  {
   "cell_type": "code",
   "execution_count": null,
   "metadata": {},
   "outputs": [],
   "source": [
    "# |hide\n",
    "# |export\n",
    "from math import floor, ceil, log2\n",
    "\n",
    "from matplotlib import colormaps\n",
    "from matplotlib.colors import to_rgba, ListedColormap\n",
    "import torch\n",
    "from torch.nn.functional import embedding, pad\n",
    "\n",
    "from lovely_tensors.repr_rgb import RGBProxy"
   ]
  },
  {
   "cell_type": "markdown",
   "metadata": {},
   "source": [
    "## Make a bunch of cearly distinguisheable images"
   ]
  },
  {
   "cell_type": "code",
   "execution_count": null,
   "metadata": {},
   "outputs": [],
   "source": [
    "from io import BytesIO\n",
    "import math\n",
    "import numpy as np"
   ]
  },
  {
   "cell_type": "code",
   "execution_count": null,
   "metadata": {},
   "outputs": [
    {
     "data": {
      "image/png": "[encoded data removed]",
      "text/plain": [
       "<PIL.Image.Image image mode=RGB size=128x128>"
      ]
     },
     "execution_count": null,
     "metadata": {},
     "output_type": "execute_result"
    }
   ],
   "source": [
    "number_images = []\n",
    "\n",
    "for i in range(100):\n",
    "\n",
    "    fig, ax = plt.subplots(figsize=(1,1))\n",
    "    ax.set_xticks([])\n",
    "    ax.set_yticks([])\n",
    "    ax.set_facecolor(\"lightblue\")\n",
    "\n",
    "    ax.spines.clear()\n",
    "    ax.text(0.5, 0.5, f\"{i}\", va=\"center\", ha=\"center\", size=12, c=\"blue\")\n",
    "    fig.tight_layout(pad=0, w_pad=0, h_pad=0) # tight_layout() after we are done plotting.\n",
    "\n",
    "        \n",
    "    data_obj = BytesIO()\n",
    "\n",
    "    fig.savefig(data_obj, format=\"raw\", dpi=128)\n",
    "    plt.close(fig)\n",
    "    img_tensor = torch.tensor(np.frombuffer(data_obj.getvalue(), dtype=np.uint8))\n",
    "    number_images.append(img_tensor.view(128, 128, 4).div(255)[:,:,:3].unsqueeze(0))\n",
    "\n",
    "number_images = torch.cat(number_images)\n",
    "number_images[10].rgb(cl=True)"
   ]
  },
  {
   "cell_type": "code",
   "execution_count": null,
   "metadata": {},
   "outputs": [
    {
     "data": {
      "text/plain": [
       "tensor[100, 128, 128, 3] n=4915200 x∈[0., 1.000] μ=0.806 σ=0.109"
      ]
     },
     "execution_count": null,
     "metadata": {},
     "output_type": "execute_result"
    }
   ],
   "source": [
    "number_images"
   ]
  },
  {
   "cell_type": "markdown",
   "metadata": {},
   "source": [
    "## Tile"
   ]
  },
  {
   "cell_type": "code",
   "execution_count": null,
   "metadata": {},
   "outputs": [],
   "source": [
    "# |exporti\n",
    "\n",
    "def fit_columns(t: torch.Tensor, # Tensor with images. 4-dim, ch-last: batch,y,x,ch\n",
    "                view_width=966):\n",
    "    \"\"\"Find out how many colums and rows to use to display the images\"\"\"\n",
    "    \n",
    "    assert t.dim() == 4\n",
    "    # Let's figure out how many images can we put in a row without the need for\n",
    "    # re-scaling. Let's try to keep the number as power or 2 if we have to have\n",
    "    # multiple rows.\n",
    "    \n",
    "    n_img = t.shape[0]\n",
    "    width = t.shape[-2]\n",
    "    \n",
    "    n_cols = 2**floor(log2((view_width / width)))\n",
    "\n",
    "    # At least 1 image per row, even if it does not fit the view without rescaling.\n",
    "    n_cols = max(1, n_cols)\n",
    "\n",
    "    # But if we actually don't have enough images to fill a single\n",
    "    # power-of-two row, just display as many as we got.\n",
    "    n_cols = min(n_img, n_cols)\n",
    "    \n",
    "    n_rows = ceil(n_img / n_cols) # Last row might have free space.\n",
    "    \n",
    "    return (n_rows, n_cols)"
   ]
  },
  {
   "cell_type": "code",
   "execution_count": null,
   "metadata": {},
   "outputs": [
    {
     "data": {
      "text/plain": [
       "(25, 4)"
      ]
     },
     "execution_count": null,
     "metadata": {},
     "output_type": "execute_result"
    }
   ],
   "source": [
    "fit_columns(number_images)"
   ]
  },
  {
   "cell_type": "code",
   "execution_count": null,
   "metadata": {},
   "outputs": [],
   "source": [
    "#| export\n",
    "def tile_images(t:torch.Tensor, # Tensor containing images, 4-dim, ch-last\n",
    "                view_width=966):\n",
    "    \"\"\"\n",
    "    Tiles images in a grid that has power-of-2 columns and fits into `view_width`.\n",
    "    Pad the images with a black frame and white gutters.\n",
    "    \"\"\"\n",
    "    assert t.dim() == 4\n",
    "    assert t.shape[-1] in (3, 4) # Either RGB or RGBA.\n",
    "\n",
    "    \n",
    "    n_images = t.shape[0]\n",
    "    n_channels = t.shape[-1]\n",
    "    xy_shape = t.shape[1:3]\n",
    "\n",
    "    n_rows, n_cols = fit_columns(t)\n",
    "\n",
    "    \n",
    "    # We need to form the images inro a rectangular area. For this, we might\n",
    "    # need to add some dummy images to the last row, whoch might be not full.\n",
    "    n_extra_images = n_rows*n_cols - t.shape[0]\n",
    "    if n_extra_images:\n",
    "        extra_images = torch.ones((n_extra_images, *t.shape[1:]))\n",
    "        t = torch.cat([ t, extra_images ])\n",
    "    \n",
    "    # This is where the fun begins! Imagine 't' is tensor[20, 128, 128, 3].\n",
    "    # and we want 5 rows, 4 columns each.\n",
    "    \n",
    "    t = t.reshape(n_rows, n_cols, *t.shape[-3:])\n",
    "    # Now t is tensor[5, 4, 128, 128, 3]\n",
    "\n",
    "    t = t.permute(0, 2, 1, 3, 4)\n",
    "    # now t is tensor[5, 128, 4, 128, 3]\n",
    "    # If we just squick dimensions 0,1 and 2,3 togerther, we get the image we want.\n",
    "    t = t.reshape(n_rows*xy_shape[0], n_cols*xy_shape[1], n_channels)\n",
    "    \n",
    "    # Now t is tensor[640, 512, 3], channel-last.\n",
    "    \n",
    "    return t"
   ]
  },
  {
   "cell_type": "code",
   "execution_count": null,
   "metadata": {},
   "outputs": [
    {
     "data": {
      "image/png": "[encoded data removed]",
      "text/plain": [
       "<PIL.Image.Image image mode=RGB size=512x640>"
      ]
     },
     "execution_count": null,
     "metadata": {},
     "output_type": "execute_result"
    }
   ],
   "source": [
    "tile_images(number_images[:17] ).rgb(cl=True)"
   ]
  },
  {
   "cell_type": "code",
   "execution_count": null,
   "metadata": {},
   "outputs": [
    {
     "data": {
      "text/plain": [
       "tensor[17, 128, 128, 3] n=835584 x∈[0., 1.000] μ=0.807 σ=0.105"
      ]
     },
     "execution_count": null,
     "metadata": {},
     "output_type": "execute_result"
    }
   ],
   "source": [
    "number_images[:17]"
   ]
  },
  {
   "cell_type": "code",
   "execution_count": null,
   "metadata": {},
   "outputs": [],
   "source": [
    "from lovely_tensors.pad import pad_frame_gutters"
   ]
  },
  {
   "cell_type": "code",
   "execution_count": null,
   "metadata": {},
   "outputs": [
    {
     "data": {
      "image/png": "[encoded data removed]",
      "text/plain": [
       "<PIL.Image.Image image mode=RGB size=544x680>"
      ]
     },
     "execution_count": null,
     "metadata": {},
     "output_type": "execute_result"
    }
   ],
   "source": [
    "tile_images(pad_frame_gutters(number_images[:17]) ).rgb(cl=True)"
   ]
  },
  {
   "cell_type": "code",
   "execution_count": null,
   "metadata": {},
   "outputs": [],
   "source": [
    "# |hide\n",
    "import nbdev; nbdev.nbdev_export()"
   ]
  }
 ],
 "metadata": {
  "kernelspec": {
   "display_name": "Python 3 (ipykernel)",
   "language": "python",
   "name": "python3"
  }
 },
 "nbformat": 4,
 "nbformat_minor": 4
}
